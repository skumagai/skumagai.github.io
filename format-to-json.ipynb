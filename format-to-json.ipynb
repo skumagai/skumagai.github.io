{
 "cells": [
  {
   "cell_type": "code",
   "execution_count": 1,
   "metadata": {
    "collapsed": true
   },
   "outputs": [],
   "source": [
    "from collections import Counter\n",
    "import pandas as pd\n",
    "import numpy as np\n",
    "import json"
   ]
  },
  {
   "cell_type": "markdown",
   "metadata": {},
   "source": [
    "# Preparing data for Sankey and Radial-Game-Tree"
   ]
  },
  {
   "cell_type": "markdown",
   "metadata": {},
   "source": [
    "## Reading two data files"
   ]
  },
  {
   "cell_type": "code",
   "execution_count": 2,
   "metadata": {
    "collapsed": false
   },
   "outputs": [
    {
     "name": "stderr",
     "output_type": "stream",
     "text": [
      "/usr/lib/python3.5/site-packages/IPython/core/interactiveshell.py:2723: DtypeWarning: Columns (14,15,21,22,26,28,31,34,35,36,37,38,40,41) have mixed types. Specify dtype option on import or set low_memory=False.\n",
      "  interactivity=interactivity, compiler=compiler, result=result)\n"
     ]
    }
   ],
   "source": [
    "metadata = pd.read_csv('game-metadata.csv', dtype={'gameid': np.int64})"
   ]
  },
  {
   "cell_type": "markdown",
   "metadata": {},
   "source": [
    "These warnings don't matter for the goal of this project."
   ]
  },
  {
   "cell_type": "code",
   "execution_count": 3,
   "metadata": {
    "collapsed": false
   },
   "outputs": [
    {
     "data": {
      "text/html": [
       "<div>\n",
       "<table border=\"1\" class=\"dataframe\">\n",
       "  <thead>\n",
       "    <tr style=\"text-align: right;\">\n",
       "      <th></th>\n",
       "      <th>gameid</th>\n",
       "      <th>EV</th>\n",
       "      <th>RO</th>\n",
       "      <th>PB</th>\n",
       "      <th>BR</th>\n",
       "      <th>PW</th>\n",
       "      <th>WR</th>\n",
       "      <th>KM</th>\n",
       "      <th>RE</th>\n",
       "      <th>DT</th>\n",
       "      <th>...</th>\n",
       "      <th>BL</th>\n",
       "      <th>WL</th>\n",
       "      <th>GN</th>\n",
       "      <th>PX</th>\n",
       "      <th>PY</th>\n",
       "      <th>OH</th>\n",
       "      <th>PBX</th>\n",
       "      <th>MN</th>\n",
       "      <th>CP</th>\n",
       "      <th>LC</th>\n",
       "    </tr>\n",
       "  </thead>\n",
       "  <tbody>\n",
       "    <tr>\n",
       "      <th>0</th>\n",
       "      <td>1</td>\n",
       "      <td>1st All Japan #1</td>\n",
       "      <td>Round 1</td>\n",
       "      <td>Sakata Eio</td>\n",
       "      <td>9p</td>\n",
       "      <td>Kubouchi Shuchi</td>\n",
       "      <td>9p</td>\n",
       "      <td>5.5</td>\n",
       "      <td>B+R</td>\n",
       "      <td>1968-11-28</td>\n",
       "      <td>...</td>\n",
       "      <td>NaN</td>\n",
       "      <td>NaN</td>\n",
       "      <td>NaN</td>\n",
       "      <td>NaN</td>\n",
       "      <td>NaN</td>\n",
       "      <td>NaN</td>\n",
       "      <td>NaN</td>\n",
       "      <td>NaN</td>\n",
       "      <td>NaN</td>\n",
       "      <td>NaN</td>\n",
       "    </tr>\n",
       "    <tr>\n",
       "      <th>1</th>\n",
       "      <td>2</td>\n",
       "      <td>1st All Japan #1</td>\n",
       "      <td>Round 3</td>\n",
       "      <td>Fujisawa Shuko</td>\n",
       "      <td>9p</td>\n",
       "      <td>Hashimoto Shoji</td>\n",
       "      <td>9p</td>\n",
       "      <td>4.5</td>\n",
       "      <td>B+3.5</td>\n",
       "      <td>1969-08-14</td>\n",
       "      <td>...</td>\n",
       "      <td>NaN</td>\n",
       "      <td>NaN</td>\n",
       "      <td>NaN</td>\n",
       "      <td>NaN</td>\n",
       "      <td>NaN</td>\n",
       "      <td>NaN</td>\n",
       "      <td>NaN</td>\n",
       "      <td>NaN</td>\n",
       "      <td>NaN</td>\n",
       "      <td>NaN</td>\n",
       "    </tr>\n",
       "    <tr>\n",
       "      <th>2</th>\n",
       "      <td>3</td>\n",
       "      <td>1st All Japan #1</td>\n",
       "      <td>Challenger's Final</td>\n",
       "      <td>Fujisawa Shuko</td>\n",
       "      <td>9p</td>\n",
       "      <td>Sugiuchi Masao</td>\n",
       "      <td>9p</td>\n",
       "      <td>4.5</td>\n",
       "      <td>B+8.5</td>\n",
       "      <td>1970</td>\n",
       "      <td>...</td>\n",
       "      <td>NaN</td>\n",
       "      <td>NaN</td>\n",
       "      <td>NaN</td>\n",
       "      <td>NaN</td>\n",
       "      <td>NaN</td>\n",
       "      <td>NaN</td>\n",
       "      <td>NaN</td>\n",
       "      <td>NaN</td>\n",
       "      <td>NaN</td>\n",
       "      <td>NaN</td>\n",
       "    </tr>\n",
       "    <tr>\n",
       "      <th>3</th>\n",
       "      <td>4</td>\n",
       "      <td>1st All Japan #1</td>\n",
       "      <td>Round 3</td>\n",
       "      <td>Ishida Yoshio</td>\n",
       "      <td>6p</td>\n",
       "      <td>Sugiuchi Masao</td>\n",
       "      <td>9p</td>\n",
       "      <td>5.5</td>\n",
       "      <td>W+R</td>\n",
       "      <td>1970</td>\n",
       "      <td>...</td>\n",
       "      <td>NaN</td>\n",
       "      <td>NaN</td>\n",
       "      <td>NaN</td>\n",
       "      <td>NaN</td>\n",
       "      <td>NaN</td>\n",
       "      <td>NaN</td>\n",
       "      <td>NaN</td>\n",
       "      <td>NaN</td>\n",
       "      <td>NaN</td>\n",
       "      <td>NaN</td>\n",
       "    </tr>\n",
       "    <tr>\n",
       "      <th>4</th>\n",
       "      <td>5</td>\n",
       "      <td>1st All Japan #1</td>\n",
       "      <td>Round 4</td>\n",
       "      <td>Kurosawa Tadanao</td>\n",
       "      <td>7p</td>\n",
       "      <td>Sugiuchi Masao</td>\n",
       "      <td>9p</td>\n",
       "      <td>5.5</td>\n",
       "      <td>W+R</td>\n",
       "      <td>1970</td>\n",
       "      <td>...</td>\n",
       "      <td>NaN</td>\n",
       "      <td>NaN</td>\n",
       "      <td>NaN</td>\n",
       "      <td>NaN</td>\n",
       "      <td>NaN</td>\n",
       "      <td>NaN</td>\n",
       "      <td>NaN</td>\n",
       "      <td>NaN</td>\n",
       "      <td>NaN</td>\n",
       "      <td>NaN</td>\n",
       "    </tr>\n",
       "  </tbody>\n",
       "</table>\n",
       "<p>5 rows × 42 columns</p>\n",
       "</div>"
      ],
      "text/plain": [
       "   gameid                EV                  RO                PB  BR  \\\n",
       "0       1  1st All Japan #1             Round 1        Sakata Eio  9p   \n",
       "1       2  1st All Japan #1             Round 3    Fujisawa Shuko  9p   \n",
       "2       3  1st All Japan #1  Challenger's Final    Fujisawa Shuko  9p   \n",
       "3       4  1st All Japan #1             Round 3     Ishida Yoshio  6p   \n",
       "4       5  1st All Japan #1             Round 4  Kurosawa Tadanao  7p   \n",
       "\n",
       "                PW  WR   KM     RE          DT ...   BL  WL   GN   PX   PY  \\\n",
       "0  Kubouchi Shuchi  9p  5.5    B+R  1968-11-28 ...  NaN NaN  NaN  NaN  NaN   \n",
       "1  Hashimoto Shoji  9p  4.5  B+3.5  1969-08-14 ...  NaN NaN  NaN  NaN  NaN   \n",
       "2   Sugiuchi Masao  9p  4.5  B+8.5        1970 ...  NaN NaN  NaN  NaN  NaN   \n",
       "3   Sugiuchi Masao  9p  5.5    W+R        1970 ...  NaN NaN  NaN  NaN  NaN   \n",
       "4   Sugiuchi Masao  9p  5.5    W+R        1970 ...  NaN NaN  NaN  NaN  NaN   \n",
       "\n",
       "    OH  PBX  MN   CP   LC  \n",
       "0  NaN  NaN NaN  NaN  NaN  \n",
       "1  NaN  NaN NaN  NaN  NaN  \n",
       "2  NaN  NaN NaN  NaN  NaN  \n",
       "3  NaN  NaN NaN  NaN  NaN  \n",
       "4  NaN  NaN NaN  NaN  NaN  \n",
       "\n",
       "[5 rows x 42 columns]"
      ]
     },
     "execution_count": 3,
     "metadata": {},
     "output_type": "execute_result"
    }
   ],
   "source": [
    "metadata.head()"
   ]
  },
  {
   "cell_type": "code",
   "execution_count": 4,
   "metadata": {
    "collapsed": false
   },
   "outputs": [],
   "source": [
    "moves = pd.read_csv('game-moves.csv') #, dtype={'moveid': np.int32, 'xnorm': np.int32, 'ynorm': np.int32})\n",
    "moves = moves[~np.isnan(moves['xnorm'])]\n",
    "moves['xnorm'] = moves['xnorm'].astype(int)\n",
    "moves['ynorm'] = moves['ynorm'].astype(int)\n",
    "moves['x'] = moves['x'].astype(int)\n",
    "moves['y'] = moves['y'].astype(int)"
   ]
  },
  {
   "cell_type": "markdown",
   "metadata": {},
   "source": [
    "## Filtering out bad data"
   ]
  },
  {
   "cell_type": "markdown",
   "metadata": {},
   "source": [
    "In the block down below, maxmove defines the number of moves to use in the subsequent analysis."
   ]
  },
  {
   "cell_type": "code",
   "execution_count": 5,
   "metadata": {
    "collapsed": false
   },
   "outputs": [
    {
     "data": {
      "text/html": [
       "<div>\n",
       "<table border=\"1\" class=\"dataframe\">\n",
       "  <thead>\n",
       "    <tr style=\"text-align: right;\">\n",
       "      <th></th>\n",
       "      <th>RE</th>\n",
       "      <th>moveid</th>\n",
       "      <th>player</th>\n",
       "      <th>x</th>\n",
       "      <th>y</th>\n",
       "    </tr>\n",
       "  </thead>\n",
       "  <tbody>\n",
       "    <tr>\n",
       "      <th>0</th>\n",
       "      <td>B+R</td>\n",
       "      <td>1</td>\n",
       "      <td>B</td>\n",
       "      <td>17</td>\n",
       "      <td>4</td>\n",
       "    </tr>\n",
       "    <tr>\n",
       "      <th>1</th>\n",
       "      <td>B+R</td>\n",
       "      <td>2</td>\n",
       "      <td>W</td>\n",
       "      <td>17</td>\n",
       "      <td>16</td>\n",
       "    </tr>\n",
       "    <tr>\n",
       "      <th>2</th>\n",
       "      <td>B+R</td>\n",
       "      <td>3</td>\n",
       "      <td>B</td>\n",
       "      <td>3</td>\n",
       "      <td>4</td>\n",
       "    </tr>\n",
       "    <tr>\n",
       "      <th>3</th>\n",
       "      <td>B+R</td>\n",
       "      <td>4</td>\n",
       "      <td>W</td>\n",
       "      <td>5</td>\n",
       "      <td>4</td>\n",
       "    </tr>\n",
       "    <tr>\n",
       "      <th>4</th>\n",
       "      <td>B+R</td>\n",
       "      <td>5</td>\n",
       "      <td>B</td>\n",
       "      <td>5</td>\n",
       "      <td>17</td>\n",
       "    </tr>\n",
       "  </tbody>\n",
       "</table>\n",
       "</div>"
      ],
      "text/plain": [
       "    RE  moveid player   x   y\n",
       "0  B+R       1      B  17   4\n",
       "1  B+R       2      W  17  16\n",
       "2  B+R       3      B   3   4\n",
       "3  B+R       4      W   5   4\n",
       "4  B+R       5      B   5  17"
      ]
     },
     "execution_count": 5,
     "metadata": {},
     "output_type": "execute_result"
    }
   ],
   "source": [
    "maxmoves=8\n",
    "winnerknown = ((metadata['RE'].str.get(0) == 'B').astype(bool) | \n",
    "               (metadata['RE'].str.get(0) == 'W').astype(bool))\n",
    "\n",
    "moves2 = pd.merge(\n",
    "    metadata[(np.isnan(metadata['SZ']) | (metadata['SZ'] == 19)) \n",
    "         & np.isreal(metadata['AB']) \n",
    "         & np.isnan(metadata['HA'])\n",
    "         & winnerknown][['gameid','SZ','RE']],\n",
    "    moves[moves['moveid']<=maxmoves][['gameid', 'moveid', 'player','x','y']],\n",
    "    on='gameid')\n",
    "del moves2['gameid']\n",
    "del moves2['SZ']\n",
    "\n",
    "moves2.head()"
   ]
  },
  {
   "cell_type": "markdown",
   "metadata": {},
   "source": [
    "A new data 'move2' contains the result of games, moveid, player, and x, y coordinates. NOTE: the coordinates are not normalized! At this point, the dataset 'moves2' is already sorted by moveid (and game id is implicit; if moveid=1, it is a start of a new game). NOTE2: Now any game, whose result doesn't start with 'B' or 'W' are excluded at this point."
   ]
  },
  {
   "cell_type": "markdown",
   "metadata": {},
   "source": [
    "## Counting the path"
   ]
  },
  {
   "cell_type": "code",
   "execution_count": 6,
   "metadata": {
    "collapsed": false
   },
   "outputs": [],
   "source": [
    "nodes = [Counter() for i in range(maxmoves)]\n",
    "paths = [Counter() for i in range(maxmoves-1)]\n",
    "seqnodes = [(0, 0) for i in range(maxmoves)]\n",
    "fullpath = Counter()\n",
    "playeratithmove = [Counter() for i in range(maxmoves)]\n",
    "\n",
    "# Processing a single record at a time.\n",
    "for key, row in moves2.iterrows():\n",
    "    result, moveid, player, x, y = row\n",
    "    idx = moveid - 1\n",
    "    nodes[idx][(x, y)] += 1\n",
    "    playeratithmove[idx][player] += 1\n",
    "    seqnodes[idx] = (x, y)\n",
    "    if moveid == maxmoves:\n",
    "        oldnode = seqnodes[0]\n",
    "        for i, node in enumerate(seqnodes[1:maxmoves]):\n",
    "            paths[i][(oldnode, node)] += 1\n",
    "            oldnode = node\n",
    "        fullpath[tuple(seqnodes)] += 1"
   ]
  },
  {
   "cell_type": "code",
   "execution_count": 7,
   "metadata": {
    "collapsed": false
   },
   "outputs": [
    {
     "data": {
      "text/plain": [
       "[Counter({'B': 28638}),\n",
       " Counter({'W': 28638}),\n",
       " Counter({'B': 28638}),\n",
       " Counter({'W': 28638}),\n",
       " Counter({'B': 28638}),\n",
       " Counter({'W': 28638}),\n",
       " Counter({'B': 28638}),\n",
       " Counter({'W': 28638})]"
      ]
     },
     "execution_count": 7,
     "metadata": {},
     "output_type": "execute_result"
    }
   ],
   "source": [
    "playeratithmove"
   ]
  },
  {
   "cell_type": "markdown",
   "metadata": {},
   "source": [
    "'playeratithmove' counts who played i-th move. As clearly shown here, only one player plays at a step; odd moves are by black players, and even moves are by white players. This clearly shows that neither player passed at the early stage of a game."
   ]
  },
  {
   "cell_type": "code",
   "execution_count": 8,
   "metadata": {
    "collapsed": false
   },
   "outputs": [
    {
     "data": {
      "text/plain": [
       "Counter({((3, 3), (16, 4)): 1,\n",
       "         ((3, 3), (16, 16)): 1,\n",
       "         ((3, 4), (16, 3)): 2,\n",
       "         ((3, 4), (16, 4)): 2,\n",
       "         ((3, 15), (3, 3)): 1,\n",
       "         ((3, 15), (3, 4)): 3,\n",
       "         ((3, 15), (4, 4)): 1,\n",
       "         ((3, 15), (16, 15)): 1,\n",
       "         ((3, 15), (16, 16)): 2,\n",
       "         ((3, 15), (16, 17)): 1,\n",
       "         ((3, 15), (17, 16)): 1,\n",
       "         ((3, 16), (3, 3)): 4,\n",
       "         ((3, 16), (3, 4)): 35,\n",
       "         ((3, 16), (4, 3)): 1,\n",
       "         ((3, 16), (4, 4)): 31,\n",
       "         ((3, 16), (4, 5)): 1,\n",
       "         ((3, 16), (5, 3)): 6,\n",
       "         ((3, 16), (5, 16)): 7,\n",
       "         ((3, 16), (5, 17)): 2,\n",
       "         ((3, 16), (6, 4)): 1,\n",
       "         ((3, 16), (6, 16)): 2,\n",
       "         ((3, 16), (15, 16)): 2,\n",
       "         ((3, 16), (15, 17)): 5,\n",
       "         ((3, 16), (16, 4)): 14,\n",
       "         ((3, 16), (16, 6)): 1,\n",
       "         ((3, 16), (16, 15)): 5,\n",
       "         ((3, 16), (16, 16)): 144,\n",
       "         ((3, 16), (16, 17)): 233,\n",
       "         ((3, 16), (17, 3)): 8,\n",
       "         ((3, 16), (17, 4)): 7,\n",
       "         ((3, 16), (17, 16)): 8,\n",
       "         ((3, 16), (17, 17)): 12,\n",
       "         ((3, 17), (3, 4)): 1,\n",
       "         ((3, 17), (16, 4)): 13,\n",
       "         ((3, 17), (16, 16)): 3,\n",
       "         ((3, 17), (16, 17)): 28,\n",
       "         ((3, 17), (17, 3)): 2,\n",
       "         ((3, 17), (17, 4)): 2,\n",
       "         ((3, 17), (17, 16)): 5,\n",
       "         ((4, 3), (3, 16)): 4,\n",
       "         ((4, 3), (4, 16)): 2,\n",
       "         ((4, 3), (16, 4)): 1,\n",
       "         ((4, 3), (16, 16)): 2,\n",
       "         ((4, 3), (17, 17)): 1,\n",
       "         ((4, 4), (3, 16)): 3,\n",
       "         ((4, 4), (4, 16)): 1,\n",
       "         ((4, 15), (3, 4)): 2,\n",
       "         ((4, 15), (16, 16)): 3,\n",
       "         ((4, 16), (3, 4)): 6,\n",
       "         ((4, 16), (3, 5)): 1,\n",
       "         ((4, 16), (4, 4)): 1,\n",
       "         ((4, 16), (13, 7)): 1,\n",
       "         ((4, 16), (15, 4)): 1,\n",
       "         ((4, 16), (15, 16)): 3,\n",
       "         ((4, 16), (15, 17)): 3,\n",
       "         ((4, 16), (16, 4)): 69,\n",
       "         ((4, 16), (16, 5)): 1,\n",
       "         ((4, 16), (16, 15)): 2,\n",
       "         ((4, 16), (16, 16)): 27,\n",
       "         ((4, 16), (16, 17)): 120,\n",
       "         ((4, 16), (17, 3)): 31,\n",
       "         ((4, 16), (17, 4)): 5,\n",
       "         ((4, 16), (17, 5)): 1,\n",
       "         ((4, 16), (17, 16)): 4,\n",
       "         ((4, 16), (17, 17)): 4,\n",
       "         ((4, 17), (3, 4)): 3,\n",
       "         ((4, 17), (4, 4)): 2,\n",
       "         ((4, 17), (17, 16)): 1,\n",
       "         ((5, 10), (4, 16)): 1,\n",
       "         ((5, 10), (16, 5)): 1,\n",
       "         ((5, 15), (17, 16)): 1,\n",
       "         ((5, 16), (4, 4)): 1,\n",
       "         ((5, 16), (16, 17)): 1,\n",
       "         ((5, 16), (17, 15)): 1,\n",
       "         ((5, 17), (4, 3)): 1,\n",
       "         ((5, 17), (16, 15)): 1,\n",
       "         ((5, 17), (16, 17)): 1,\n",
       "         ((9, 10), (16, 4)): 1,\n",
       "         ((10, 10), (3, 16)): 2,\n",
       "         ((10, 10), (4, 3)): 1,\n",
       "         ((10, 10), (4, 4)): 7,\n",
       "         ((10, 10), (4, 16)): 13,\n",
       "         ((10, 10), (5, 15)): 1,\n",
       "         ((10, 10), (9, 15)): 1,\n",
       "         ((10, 10), (16, 4)): 2,\n",
       "         ((10, 10), (17, 4)): 1,\n",
       "         ((11, 7), (4, 16)): 1,\n",
       "         ((11, 10), (4, 4)): 1,\n",
       "         ((12, 8), (3, 15)): 1,\n",
       "         ((13, 5), (16, 16)): 2,\n",
       "         ((13, 5), (17, 6)): 1,\n",
       "         ((13, 7), (4, 16)): 2,\n",
       "         ((14, 4), (4, 16)): 2,\n",
       "         ((14, 6), (4, 16)): 3,\n",
       "         ((14, 6), (7, 15)): 1,\n",
       "         ((14, 6), (8, 11)): 1,\n",
       "         ((14, 16), (4, 4)): 1,\n",
       "         ((14, 16), (16, 4)): 1,\n",
       "         ((15, 3), (4, 4)): 1,\n",
       "         ((15, 3), (4, 16)): 5,\n",
       "         ((15, 3), (16, 16)): 4,\n",
       "         ((15, 3), (17, 4)): 1,\n",
       "         ((15, 4), (3, 16)): 2,\n",
       "         ((15, 4), (4, 3)): 4,\n",
       "         ((15, 4), (4, 4)): 3,\n",
       "         ((15, 4), (4, 16)): 4,\n",
       "         ((15, 4), (5, 16)): 2,\n",
       "         ((15, 4), (16, 16)): 8,\n",
       "         ((15, 4), (16, 17)): 1,\n",
       "         ((15, 4), (17, 4)): 1,\n",
       "         ((15, 5), (3, 17)): 1,\n",
       "         ((15, 5), (4, 3)): 1,\n",
       "         ((15, 5), (4, 4)): 4,\n",
       "         ((15, 5), (4, 16)): 13,\n",
       "         ((15, 5), (7, 15)): 1,\n",
       "         ((15, 5), (10, 10)): 1,\n",
       "         ((15, 5), (16, 15)): 1,\n",
       "         ((15, 6), (7, 5)): 1,\n",
       "         ((15, 7), (4, 4)): 5,\n",
       "         ((15, 7), (4, 16)): 2,\n",
       "         ((15, 7), (5, 3)): 1,\n",
       "         ((15, 7), (5, 7)): 1,\n",
       "         ((15, 7), (5, 16)): 1,\n",
       "         ((15, 7), (5, 17)): 1,\n",
       "         ((15, 7), (6, 4)): 1,\n",
       "         ((15, 7), (15, 16)): 1,\n",
       "         ((15, 9), (3, 16)): 1,\n",
       "         ((15, 16), (4, 4)): 1,\n",
       "         ((15, 17), (4, 3)): 1,\n",
       "         ((15, 17), (16, 4)): 1,\n",
       "         ((16, 3), (4, 4)): 1,\n",
       "         ((16, 3), (4, 16)): 1,\n",
       "         ((16, 3), (16, 6)): 1,\n",
       "         ((16, 3), (16, 16)): 2,\n",
       "         ((16, 3), (17, 16)): 3,\n",
       "         ((16, 4), (3, 3)): 153,\n",
       "         ((16, 4), (3, 4)): 60,\n",
       "         ((16, 4), (3, 5)): 6,\n",
       "         ((16, 4), (3, 15)): 23,\n",
       "         ((16, 4), (3, 16)): 206,\n",
       "         ((16, 4), (3, 17)): 464,\n",
       "         ((16, 4), (4, 3)): 2998,\n",
       "         ((16, 4), (4, 4)): 6589,\n",
       "         ((16, 4), (4, 5)): 14,\n",
       "         ((16, 4), (4, 10)): 1,\n",
       "         ((16, 4), (4, 14)): 3,\n",
       "         ((16, 4), (4, 15)): 17,\n",
       "         ((16, 4), (4, 16)): 4263,\n",
       "         ((16, 4), (4, 17)): 22,\n",
       "         ((16, 4), (5, 3)): 38,\n",
       "         ((16, 4), (5, 4)): 33,\n",
       "         ((16, 4), (5, 16)): 4,\n",
       "         ((16, 4), (5, 17)): 3,\n",
       "         ((16, 4), (6, 4)): 2,\n",
       "         ((16, 4), (6, 16)): 1,\n",
       "         ((16, 4), (10, 10)): 2,\n",
       "         ((16, 4), (14, 3)): 1,\n",
       "         ((16, 4), (15, 16)): 1,\n",
       "         ((16, 4), (15, 17)): 3,\n",
       "         ((16, 4), (16, 15)): 1,\n",
       "         ((16, 4), (16, 16)): 51,\n",
       "         ((16, 4), (16, 17)): 10,\n",
       "         ((16, 4), (17, 6)): 1,\n",
       "         ((16, 4), (17, 15)): 6,\n",
       "         ((16, 4), (17, 16)): 87,\n",
       "         ((16, 4), (17, 17)): 9,\n",
       "         ((16, 5), (3, 17)): 1,\n",
       "         ((16, 5), (4, 3)): 1,\n",
       "         ((16, 5), (4, 4)): 35,\n",
       "         ((16, 5), (4, 15)): 1,\n",
       "         ((16, 5), (4, 16)): 33,\n",
       "         ((16, 5), (5, 4)): 1,\n",
       "         ((16, 5), (6, 4)): 1,\n",
       "         ((16, 5), (16, 3)): 3,\n",
       "         ((16, 5), (16, 16)): 15,\n",
       "         ((16, 5), (17, 15)): 1,\n",
       "         ((16, 5), (17, 16)): 15,\n",
       "         ((16, 6), (4, 3)): 1,\n",
       "         ((16, 6), (4, 4)): 1,\n",
       "         ((16, 6), (15, 4)): 1,\n",
       "         ((16, 6), (16, 16)): 5,\n",
       "         ((16, 6), (17, 8)): 1,\n",
       "         ((16, 6), (17, 15)): 1,\n",
       "         ((16, 16), (3, 3)): 1,\n",
       "         ((16, 16), (3, 4)): 1,\n",
       "         ((16, 16), (4, 4)): 8,\n",
       "         ((16, 16), (4, 16)): 18,\n",
       "         ((16, 16), (4, 17)): 6,\n",
       "         ((16, 16), (16, 4)): 2,\n",
       "         ((16, 16), (17, 4)): 1,\n",
       "         ((16, 17), (16, 4)): 2,\n",
       "         ((16, 17), (17, 4)): 7,\n",
       "         ((17, 3), (3, 3)): 2,\n",
       "         ((17, 3), (3, 4)): 31,\n",
       "         ((17, 3), (3, 5)): 4,\n",
       "         ((17, 3), (3, 15)): 1,\n",
       "         ((17, 3), (3, 16)): 13,\n",
       "         ((17, 3), (3, 17)): 18,\n",
       "         ((17, 3), (4, 3)): 117,\n",
       "         ((17, 3), (4, 4)): 27,\n",
       "         ((17, 3), (4, 5)): 1,\n",
       "         ((17, 3), (4, 15)): 1,\n",
       "         ((17, 3), (4, 16)): 105,\n",
       "         ((17, 3), (4, 17)): 1,\n",
       "         ((17, 3), (5, 17)): 1,\n",
       "         ((17, 3), (15, 17)): 4,\n",
       "         ((17, 3), (16, 4)): 4,\n",
       "         ((17, 3), (16, 15)): 1,\n",
       "         ((17, 3), (16, 16)): 1,\n",
       "         ((17, 3), (16, 17)): 5,\n",
       "         ((17, 3), (17, 16)): 5,\n",
       "         ((17, 4), (3, 3)): 330,\n",
       "         ((17, 4), (3, 4)): 81,\n",
       "         ((17, 4), (3, 5)): 11,\n",
       "         ((17, 4), (3, 15)): 6,\n",
       "         ((17, 4), (3, 16)): 316,\n",
       "         ((17, 4), (3, 17)): 179,\n",
       "         ((17, 4), (4, 3)): 3550,\n",
       "         ((17, 4), (4, 4)): 3431,\n",
       "         ((17, 4), (4, 5)): 31,\n",
       "         ((17, 4), (4, 14)): 2,\n",
       "         ((17, 4), (4, 15)): 4,\n",
       "         ((17, 4), (4, 16)): 1818,\n",
       "         ((17, 4), (4, 17)): 4,\n",
       "         ((17, 4), (5, 3)): 30,\n",
       "         ((17, 4), (5, 4)): 18,\n",
       "         ((17, 4), (5, 16)): 1,\n",
       "         ((17, 4), (5, 17)): 4,\n",
       "         ((17, 4), (6, 3)): 1,\n",
       "         ((17, 4), (6, 4)): 3,\n",
       "         ((17, 4), (7, 10)): 1,\n",
       "         ((17, 4), (11, 9)): 1,\n",
       "         ((17, 4), (14, 4)): 32,\n",
       "         ((17, 4), (15, 3)): 38,\n",
       "         ((17, 4), (15, 4)): 105,\n",
       "         ((17, 4), (15, 16)): 6,\n",
       "         ((17, 4), (15, 17)): 23,\n",
       "         ((17, 4), (16, 14)): 1,\n",
       "         ((17, 4), (16, 16)): 1102,\n",
       "         ((17, 4), (16, 17)): 41,\n",
       "         ((17, 4), (17, 15)): 6,\n",
       "         ((17, 4), (17, 16)): 318,\n",
       "         ((17, 4), (17, 17)): 101,\n",
       "         ((17, 5), (3, 3)): 1,\n",
       "         ((17, 5), (3, 4)): 10,\n",
       "         ((17, 5), (3, 15)): 1,\n",
       "         ((17, 5), (3, 16)): 1,\n",
       "         ((17, 5), (3, 17)): 4,\n",
       "         ((17, 5), (4, 3)): 7,\n",
       "         ((17, 5), (4, 4)): 127,\n",
       "         ((17, 5), (4, 5)): 2,\n",
       "         ((17, 5), (4, 16)): 85,\n",
       "         ((17, 5), (4, 17)): 1,\n",
       "         ((17, 5), (5, 3)): 1,\n",
       "         ((17, 5), (5, 4)): 2,\n",
       "         ((17, 5), (15, 4)): 1,\n",
       "         ((17, 5), (15, 16)): 3,\n",
       "         ((17, 5), (15, 17)): 2,\n",
       "         ((17, 5), (16, 3)): 8,\n",
       "         ((17, 5), (16, 14)): 1,\n",
       "         ((17, 5), (16, 15)): 3,\n",
       "         ((17, 5), (16, 16)): 98,\n",
       "         ((17, 5), (16, 17)): 1,\n",
       "         ((17, 5), (17, 16)): 28,\n",
       "         ((17, 5), (17, 17)): 6,\n",
       "         ((17, 15), (17, 4)): 1,\n",
       "         ((17, 16), (3, 17)): 1,\n",
       "         ((17, 16), (4, 4)): 4,\n",
       "         ((17, 16), (4, 16)): 9,\n",
       "         ((17, 16), (4, 17)): 10,\n",
       "         ((17, 16), (16, 4)): 4,\n",
       "         ((17, 17), (4, 17)): 1})"
      ]
     },
     "execution_count": 8,
     "metadata": {},
     "output_type": "execute_result"
    }
   ],
   "source": [
    "paths[0]"
   ]
  },
  {
   "cell_type": "markdown",
   "metadata": {},
   "source": [
    "'path' is a list of move from i-th to (i+1)-th move for each i separately, whereas fullpaths is a list of moves from 1-st to 5-th moves."
   ]
  },
  {
   "cell_type": "code",
   "execution_count": 9,
   "metadata": {
    "collapsed": false
   },
   "outputs": [
    {
     "data": {
      "text/plain": [
       "28638"
      ]
     },
     "execution_count": 9,
     "metadata": {},
     "output_type": "execute_result"
    }
   ],
   "source": [
    "numgames = len(moves2[moves2.moveid==1])\n",
    "numgames"
   ]
  },
  {
   "cell_type": "code",
   "execution_count": 10,
   "metadata": {
    "collapsed": false
   },
   "outputs": [
    {
     "data": {
      "text/plain": [
       "15249"
      ]
     },
     "execution_count": 10,
     "metadata": {},
     "output_type": "execute_result"
    }
   ],
   "source": [
    "numunique = len(fullpath)\n",
    "numunique"
   ]
  },
  {
   "cell_type": "code",
   "execution_count": 11,
   "metadata": {
    "collapsed": false
   },
   "outputs": [
    {
     "data": {
      "text/plain": [
       "46.75256652000838"
      ]
     },
     "execution_count": 11,
     "metadata": {},
     "output_type": "execute_result"
    }
   ],
   "source": [
    "(numgames - numunique) / numgames * 100"
   ]
  },
  {
   "cell_type": "markdown",
   "metadata": {},
   "source": [
    "Up to 5-th move, there are 28677 games, out of which 4448 unique paths. The vast majority of moves are therefore represented more than once in our dataset."
   ]
  },
  {
   "cell_type": "markdown",
   "metadata": {},
   "source": [
    "Transforming the obtained results in a usable form:\n",
    "{nodes: [{\"name\": \"name 1\"}, {\"name\": \"name 2\"}, ... ],\n",
    "edges: [{\"source\": 1, \"target\": 2, \"value\": 3}, {\"source\": 2, \"target\": 3, \"value\": 4}...]}"
   ]
  },
  {
   "cell_type": "markdown",
   "metadata": {},
   "source": [
    "# Format for Sankey"
   ]
  },
  {
   "cell_type": "markdown",
   "metadata": {},
   "source": [
    "First count all possible positions of a move at i-th move:"
   ]
  },
  {
   "cell_type": "code",
   "execution_count": 12,
   "metadata": {
    "collapsed": false
   },
   "outputs": [],
   "source": [
    "nodes2 = []\n",
    "node_map = {}\n",
    "idx_offset = 0\n",
    "for i, counter in enumerate(nodes):\n",
    "    ns = [{'name': '{}'.format(n[0]),\n",
    "           'value': n[1],\n",
    "           'level': i + 1} \n",
    "          for n in sorted(counter.items(), key = lambda x: x[1], reverse=True)]\n",
    "    node_map.update({(n['level'],n['name']): idx + idx_offset for idx, n in enumerate(ns)})\n",
    "    idx_offset += len(ns)\n",
    "    nodes2.extend(ns)"
   ]
  },
  {
   "cell_type": "code",
   "execution_count": 13,
   "metadata": {
    "collapsed": false
   },
   "outputs": [
    {
     "data": {
      "text/plain": [
       "[{'level': 1, 'name': '(16, 4)', 'value': 15072},\n",
       " {'level': 1, 'name': '(17, 4)', 'value': 11595},\n",
       " {'level': 1, 'name': '(3, 16)', 'value': 529},\n",
       " {'level': 1, 'name': '(17, 5)', 'value': 393},\n",
       " {'level': 1, 'name': '(17, 3)', 'value': 342}]"
      ]
     },
     "execution_count": 13,
     "metadata": {},
     "output_type": "execute_result"
    }
   ],
   "source": [
    "nodes2[:5]"
   ]
  },
  {
   "cell_type": "markdown",
   "metadata": {},
   "source": [
    "nodes2 holds all positions per-move . The 'name' is x, y coordinate, and the 'value' is frequency/count. The 'level' represents i-th move.\n",
    "'node_map' holds a mapping from the node to its index in the list; this is purely an implementation detail."
   ]
  },
  {
   "cell_type": "code",
   "execution_count": 14,
   "metadata": {
    "collapsed": false
   },
   "outputs": [],
   "source": [
    "paths2 = []\n",
    "for i, path in enumerate(paths):\n",
    "    level = i + 1\n",
    "    paths2.extend(\n",
    "        {'source': node_map[(level, '{}'.format(p[0][0]))],\n",
    "         'target': node_map[(level+1, '{}'.format(p[0][1]))],\n",
    "         'value': p[1]}\n",
    "        for p in sorted(path.items(), key = lambda x: x[1], reverse=True))"
   ]
  },
  {
   "cell_type": "code",
   "execution_count": 15,
   "metadata": {
    "collapsed": false
   },
   "outputs": [
    {
     "data": {
      "text/plain": [
       "[{'source': 0, 'target': 44, 'value': 6589},\n",
       " {'source': 0, 'target': 46, 'value': 4263},\n",
       " {'source': 1, 'target': 45, 'value': 3550},\n",
       " {'source': 1, 'target': 44, 'value': 3431},\n",
       " {'source': 0, 'target': 45, 'value': 2998}]"
      ]
     },
     "execution_count": 15,
     "metadata": {},
     "output_type": "execute_result"
    }
   ],
   "source": [
    "paths2[:5]"
   ]
  },
  {
   "cell_type": "markdown",
   "metadata": {},
   "source": [
    "Like 'nodes2', 'paths2' holds frquency/count of \"flows\". 'source' is an index of a stone at i-th move in 'nodes2'. Similarly, 'target' is an index of a stone at (i+1)-th move in 'nodes2'. Therefore, 'paths2' represents an edge/flow from i-th to (i+1)-th move."
   ]
  },
  {
   "cell_type": "markdown",
   "metadata": {},
   "source": [
    "Finally, store 'nodes2' and 'paths2' in a JSON-formatted file. This file is the only input for our Sankey diagram."
   ]
  },
  {
   "cell_type": "code",
   "execution_count": null,
   "metadata": {
    "collapsed": false
   },
   "outputs": [],
   "source": [
    "with open('game-moves.json', 'w') as f:\n",
    "    json.dump({'nodes': nodes2, 'links': paths2}, f)"
   ]
  },
  {
   "cell_type": "markdown",
   "metadata": {},
   "source": [
    "# Formatting for Radial-Game-Tree"
   ]
  },
  {
   "cell_type": "markdown",
   "metadata": {},
   "source": [
    "Now, format for serialization. In particular, I need children of a node in a list not in a dict."
   ]
  },
  {
   "cell_type": "code",
   "execution_count": 16,
   "metadata": {
    "collapsed": false
   },
   "outputs": [],
   "source": [
    "# Start from an empty root node.\n",
    "move_tree = {'x': 0, 'y': 0, 'children': {}, 'player': 'root', 'count': 0,\n",
    "             'win': {'B': 0, 'W': 0}} \n",
    "for _, row in moves2.iterrows():\n",
    "    # current_path points to the parent of the current move.\n",
    "    result, moveid, player, x, y = row\n",
    "    if moveid == 1:\n",
    "        current_path = move_tree\n",
    "        move_tree['count'] += 1\n",
    "    \n",
    "    if (x, y) not in current_path['children']:\n",
    "        current_path['children'][(x, y)] = {'x': x, 'y': y, \n",
    "                                            'player': player, \n",
    "                                            'children': {}, \n",
    "                                            'count': 0,\n",
    "                                            'win': {'B': 0, 'W': 0}}\n",
    "    # current_path is updated to the current move.\n",
    "    current_path = current_path['children'][(x, y)]\n",
    "    current_path['count'] += 1\n",
    "    current_path['win'][result[0]] += 1"
   ]
  },
  {
   "cell_type": "code",
   "execution_count": 17,
   "metadata": {
    "collapsed": false
   },
   "outputs": [],
   "source": [
    "def modifyrecurse(path):\n",
    "    children = path['children'].values()\n",
    "    for child in children:\n",
    "        modifyrecurse(child)\n",
    "    path['children'] = list(children)\n",
    "modifyrecurse(move_tree)"
   ]
  },
  {
   "cell_type": "code",
   "execution_count": 18,
   "metadata": {
    "collapsed": false
   },
   "outputs": [
    {
     "data": {
      "text/plain": [
       "True"
      ]
     },
     "execution_count": 18,
     "metadata": {},
     "output_type": "execute_result"
    }
   ],
   "source": [
    "all(c['count'] == sum(c['win'].values()) for c in move_tree['children'])"
   ]
  },
  {
   "cell_type": "code",
   "execution_count": 19,
   "metadata": {
    "collapsed": true
   },
   "outputs": [],
   "source": [
    "with open('game-tree-8.json', 'w') as f:\n",
    "    json.dump(move_tree, f)"
   ]
  }
 ],
 "metadata": {
  "kernelspec": {
   "display_name": "Python 3",
   "language": "python",
   "name": "python3"
  },
  "language_info": {
   "codemirror_mode": {
    "name": "ipython",
    "version": 3
   },
   "file_extension": ".py",
   "mimetype": "text/x-python",
   "name": "python",
   "nbconvert_exporter": "python",
   "pygments_lexer": "ipython3",
   "version": "3.5.1"
  }
 },
 "nbformat": 4,
 "nbformat_minor": 0
}
